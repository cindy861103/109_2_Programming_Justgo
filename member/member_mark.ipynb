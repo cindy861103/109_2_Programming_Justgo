{
 "metadata": {
  "language_info": {
   "codemirror_mode": {
    "name": "ipython",
    "version": 3
   },
   "file_extension": ".py",
   "mimetype": "text/x-python",
   "name": "python",
   "nbconvert_exporter": "python",
   "pygments_lexer": "ipython3",
   "version": 3
  },
  "orig_nbformat": 4
 },
 "nbformat": 4,
 "nbformat_minor": 2,
 "cells": [
  {
   "source": [
    "## Member Related Mark"
   ],
   "cell_type": "markdown",
   "metadata": {}
  },
  {
   "cell_type": "code",
   "execution_count": null,
   "metadata": {},
   "outputs": [],
   "source": [
    "import member as mb\n",
    "\n",
    "if '註冊' in msg:\n",
    "    message = mb.register()\n",
    "    line_bot_api.reply_message(event.reply_token, message)\n",
    "elif '更改資料' in msg:\n",
    "    message = mb.update_info()\n",
    "    line_bot_api.reply_message(event.reply_token, message)\n",
    "elif '查看信用值' in msg:\n",
    "    message = mb.credit_check()\n",
    "    line_bot_api.reply_message(event.reply_token, message)\n",
    "elif '查看歷史記錄' in msg:\n",
    "    message = mb.id_log()\n",
    "    line_bot_api.reply_message(event.reply_token, message)\n",
    "elif '_dbmbcheck' in msg: # 註冊 與否的回覆\n",
    "    message = mb.student_id()\n",
    "    line_bot_api.reply_message(event.reply_token, message)\n",
    "elif '_sid' in msg: # student_id的回覆\n",
    "    message = mb.name()\n",
    "    line_bot_api.reply_message(event.reply_token, message)\n",
    "elif '_name' in msg:  # name的回覆\n",
    "    message = mb.depart()\n",
    "    line_bot_api.reply_message(event.reply_token, message)\n",
    "elif '_depart' in msg: # depart的回覆\n",
    "    message = mb.sex()\n",
    "    line_bot_api.reply_message(event.reply_token, message)\n",
    "elif '_sex' in msg: # sex的回覆\n",
    "    message = mb.password()\n",
    "    line_bot_api.reply_message(event.reply_token, message)\n",
    "elif '_idpass' in msg: # password的回覆\n",
    "    message = mb.password_check()\n",
    "    line_bot_api.reply_message(event.reply_token, message)\n",
    "elif '_passchk' in msg: # password_check的回覆\n",
    "    message = mb.email_check()\n",
    "    line_bot_api.reply_message(event.reply_token, message)\n",
    "elif '_cknum' in msg: # email_check的回覆\n",
    "    message = mb.password_match() \n",
    "    line_bot_api.reply_message(event.reply_token, message)\n",
    "elif '_upchk' in msg: # password_check的回覆\n",
    "    message = mb.update_mb()\n",
    "    line_bot_api.reply_message(event.reply_token, message)"
   ]
  }
 ]
}